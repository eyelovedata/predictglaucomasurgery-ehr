{
 "cells": [
  {
   "cell_type": "code",
   "execution_count": 1,
   "metadata": {},
   "outputs": [],
   "source": [
    "import pandas as pd\n",
    "import re \n",
    "import numpy as np\n",
    "import ast\n",
    "import math\n",
    "from sklearn import metrics \n",
    "import matplotlib.pyplot as plt\n",
    "\n",
    "from IPython.core.interactiveshell import InteractiveShell\n",
    "InteractiveShell.ast_node_interactivity = \"all\""
   ]
  },
  {
   "cell_type": "markdown",
   "metadata": {},
   "source": [
    "# Structured vs Text models - Main Figure and Table"
   ]
  },
  {
   "cell_type": "code",
   "execution_count": 2,
   "metadata": {},
   "outputs": [],
   "source": [
    "dftext=pd.read_csv(\"../../../predictglaucomasurgery/predictionsfromBen/textmodel/AGS - textcnn-preds.csv\", header=None)\n",
    "dfstruct=pd.read_csv(\"../../../predictglaucomasurgery/predictionsfromBen/structuredmodel/AGS - structuredpreds.csv\", header=None)\n",
    "dfcombo=pd.read_csv(\"../../../predictglaucomasurgery/predictionsfromBen/combomodel/AGS - combo-11-preds.csv\", header=None)\n"
   ]
  },
  {
   "cell_type": "code",
   "execution_count": 3,
   "metadata": {},
   "outputs": [
    {
     "data": {
      "text/plain": [
       "500"
      ]
     },
     "execution_count": 3,
     "metadata": {},
     "output_type": "execute_result"
    }
   ],
   "source": [
    "len(dftext)"
   ]
  },
  {
   "cell_type": "code",
   "execution_count": 4,
   "metadata": {},
   "outputs": [],
   "source": [
    "dfrating=pd.read_excel(\"../../../predictglaucomasurgery/RateHeldoutSet.xlsx\", header=None, names=[\"prediction\"])\n",
    "dfkey=pd.read_csv(\"../../../predictglaucomasurgery/originalholdoutsetkey.csv\", header=None, names=[\"patid\", \"label\", \"note\"])"
   ]
  },
  {
   "cell_type": "code",
   "execution_count": 5,
   "metadata": {},
   "outputs": [
    {
     "data": {
      "text/plain": [
       "300"
      ]
     },
     "execution_count": 5,
     "metadata": {},
     "output_type": "execute_result"
    }
   ],
   "source": [
    "len(dfrating)"
   ]
  },
  {
   "cell_type": "code",
   "execution_count": 6,
   "metadata": {},
   "outputs": [],
   "source": [
    "dfoph=pd.concat([dfkey['label'],dfrating[\"prediction\"]], axis=1)"
   ]
  },
  {
   "cell_type": "code",
   "execution_count": 7,
   "metadata": {},
   "outputs": [],
   "source": [
    "def preprocessdf(df): \n",
    "    df.columns=[\"predictions\", \"label\"]\n",
    "    proba=df[\"predictions\"].tolist()\n",
    "    y=df[\"label\"].tolist() \n",
    "    return y, proba"
   ]
  },
  {
   "cell_type": "code",
   "execution_count": 8,
   "metadata": {},
   "outputs": [],
   "source": [
    "def returnauc(df):\n",
    "    fpr, tpr, thresholds = metrics.roc_curve(*preprocessdf(df), pos_label=1)\n",
    "    auc=metrics.auc(fpr, tpr)\n",
    "    return auc"
   ]
  },
  {
   "cell_type": "code",
   "execution_count": 9,
   "metadata": {},
   "outputs": [
    {
     "data": {
      "text/plain": [
       "0.6972298534798534"
      ]
     },
     "execution_count": 9,
     "metadata": {},
     "output_type": "execute_result"
    },
    {
     "data": {
      "text/plain": [
       "0.6576522435897436"
      ]
     },
     "execution_count": 9,
     "metadata": {},
     "output_type": "execute_result"
    },
    {
     "data": {
      "text/plain": [
       "0.731198489010989"
      ]
     },
     "execution_count": 9,
     "metadata": {},
     "output_type": "execute_result"
    }
   ],
   "source": [
    "returnauc(dftext)\n",
    "returnauc(dfstruct)\n",
    "returnauc(dfcombo)"
   ]
  },
  {
   "cell_type": "code",
   "execution_count": 10,
   "metadata": {},
   "outputs": [],
   "source": [
    "def returnfprtpr(df):\n",
    "    fpr, tpr, thresholds = metrics.roc_curve(*preprocessdf(df), pos_label=1)\n",
    "    return fpr, tpr"
   ]
  },
  {
   "cell_type": "code",
   "execution_count": 11,
   "metadata": {},
   "outputs": [
    {
     "data": {
      "text/plain": [
       "0.6972298534798534"
      ]
     },
     "execution_count": 11,
     "metadata": {},
     "output_type": "execute_result"
    }
   ],
   "source": [
    "from sklearn import metrics \n",
    "fpr, tpr, thresholds = metrics.roc_curve(*preprocessdf(dftext), pos_label=1)\n",
    "auc=metrics.auc(fpr, tpr)\n",
    "auc\n"
   ]
  },
  {
   "cell_type": "code",
   "execution_count": 50,
   "metadata": {},
   "outputs": [
    {
     "data": {
      "text/plain": [
       "<Figure size 432x288 with 0 Axes>"
      ]
     },
     "execution_count": 50,
     "metadata": {},
     "output_type": "execute_result"
    },
    {
     "data": {
      "text/plain": [
       "[<matplotlib.lines.Line2D at 0x1b51824b208>]"
      ]
     },
     "execution_count": 50,
     "metadata": {},
     "output_type": "execute_result"
    },
    {
     "data": {
      "text/plain": [
       "[<matplotlib.lines.Line2D at 0x1b5181f8588>]"
      ]
     },
     "execution_count": 50,
     "metadata": {},
     "output_type": "execute_result"
    },
    {
     "data": {
      "text/plain": [
       "[<matplotlib.lines.Line2D at 0x1b5181d1630>]"
      ]
     },
     "execution_count": 50,
     "metadata": {},
     "output_type": "execute_result"
    },
    {
     "data": {
      "text/plain": [
       "(<matplotlib.collections.PathCollection at 0x1b51824b9e8>,)"
      ]
     },
     "execution_count": 50,
     "metadata": {},
     "output_type": "execute_result"
    },
    {
     "data": {
      "text/plain": [
       "[<matplotlib.lines.Line2D at 0x1b51824b6d8>]"
      ]
     },
     "execution_count": 50,
     "metadata": {},
     "output_type": "execute_result"
    },
    {
     "data": {
      "text/plain": [
       "(0.0, 1.0)"
      ]
     },
     "execution_count": 50,
     "metadata": {},
     "output_type": "execute_result"
    },
    {
     "data": {
      "text/plain": [
       "(0.0, 1.05)"
      ]
     },
     "execution_count": 50,
     "metadata": {},
     "output_type": "execute_result"
    },
    {
     "data": {
      "text/plain": [
       "(array([0. , 0.2, 0.4, 0.6, 0.8, 1. ]),\n",
       " [Text(0, 0, ''),\n",
       "  Text(0, 0, ''),\n",
       "  Text(0, 0, ''),\n",
       "  Text(0, 0, ''),\n",
       "  Text(0, 0, ''),\n",
       "  Text(0, 0, '')])"
      ]
     },
     "execution_count": 50,
     "metadata": {},
     "output_type": "execute_result"
    },
    {
     "data": {
      "text/plain": [
       "(array([0. , 0.2, 0.4, 0.6, 0.8, 1. , 1.2]),\n",
       " [Text(0, 0, ''),\n",
       "  Text(0, 0, ''),\n",
       "  Text(0, 0, ''),\n",
       "  Text(0, 0, ''),\n",
       "  Text(0, 0, ''),\n",
       "  Text(0, 0, ''),\n",
       "  Text(0, 0, '')])"
      ]
     },
     "execution_count": 50,
     "metadata": {},
     "output_type": "execute_result"
    },
    {
     "data": {
      "text/plain": [
       "Text(0.5, 0, 'False Positive Rate')"
      ]
     },
     "execution_count": 50,
     "metadata": {},
     "output_type": "execute_result"
    },
    {
     "data": {
      "text/plain": [
       "Text(0, 0.5, 'True Positive Rate')"
      ]
     },
     "execution_count": 50,
     "metadata": {},
     "output_type": "execute_result"
    },
    {
     "data": {
      "text/plain": [
       "Text(0.5, 1.0, 'Receiver Operating Curve')"
      ]
     },
     "execution_count": 50,
     "metadata": {},
     "output_type": "execute_result"
    },
    {
     "data": {
      "text/plain": [
       "<matplotlib.legend.Legend at 0x1b518266278>"
      ]
     },
     "execution_count": 50,
     "metadata": {},
     "output_type": "execute_result"
    },
    {
     "data": {
      "image/png": "[encoded data removed]",
      "text/plain": [
       "<Figure size 432x288 with 1 Axes>"
      ]
     },
     "metadata": {
      "needs_background": "light"
     },
     "output_type": "display_data"
    }
   ],
   "source": [
    "plt.figure()\n",
    "lw = 2\n",
    "\n",
    "plt.plot(*returnfprtpr(dfcombo), color='darkorange',\n",
    "         lw=lw, label='Combined Model (AUC %0.2f)' % returnauc(dfcombo))\n",
    "plt.plot(*returnfprtpr(dftext), color='darkblue',\n",
    "         lw=lw, label='Text Model (AUC %0.2f)' % returnauc(dftext))\n",
    "plt.plot(*returnfprtpr(dfstruct), color='darkgreen',\n",
    "         lw=lw, label='Structured Model (AUC %0.2f)' % returnauc(dfstruct))\n",
    "plt.scatter(0.25, 1-0.90, \n",
    "            color=\"red\", marker=\"X\", s=100, label = 'Ophthalmologist Predictions'),\n",
    "plt.plot([0, 1], [0, 1], color='red', lw=lw, linestyle='--')\n",
    "plt.xlim([0.0, 1.0])\n",
    "plt.ylim([0.0, 1.05])\n",
    "plt.xticks(fontsize=12)\n",
    "plt.yticks(fontsize=12)\n",
    "plt.xlabel('False Positive Rate', fontsize=14)\n",
    "plt.ylabel('True Positive Rate', fontsize=14)\n",
    "plt.title('Receiver Operating Curve', fontsize=16)\n",
    "plt.legend(loc=\"lower right\", prop={'size': 12})\n",
    "plt.show()"
   ]
  },
  {
   "cell_type": "code",
   "execution_count": 12,
   "metadata": {},
   "outputs": [
    {
     "data": {
      "text/plain": [
       "0.4308693942234415"
      ]
     },
     "execution_count": 12,
     "metadata": {},
     "output_type": "execute_result"
    }
   ],
   "source": [
    "def returnauprc(df):\n",
    "    precision, recall, thresholds=metrics.precision_recall_curve(*preprocessdf(df), pos_label=1)\n",
    "    return metrics.auc(recall, precision)\n",
    "returnauprc(dftext)"
   ]
  },
  {
   "cell_type": "code",
   "execution_count": 13,
   "metadata": {},
   "outputs": [],
   "source": [
    "def returnrecallprecision(df): \n",
    "    precision, recall, thresholds=metrics.precision_recall_curve(*preprocessdf(df), pos_label=1)\n",
    "    return recall, precision"
   ]
  },
  {
   "cell_type": "code",
   "execution_count": 49,
   "metadata": {
    "scrolled": true
   },
   "outputs": [
    {
     "data": {
      "text/plain": [
       "<Figure size 432x288 with 0 Axes>"
      ]
     },
     "execution_count": 49,
     "metadata": {},
     "output_type": "execute_result"
    },
    {
     "data": {
      "text/plain": [
       "[<matplotlib.lines.Line2D at 0x1b5181d1588>]"
      ]
     },
     "execution_count": 49,
     "metadata": {},
     "output_type": "execute_result"
    },
    {
     "data": {
      "text/plain": [
       "[<matplotlib.lines.Line2D at 0x1b518187c50>]"
      ]
     },
     "execution_count": 49,
     "metadata": {},
     "output_type": "execute_result"
    },
    {
     "data": {
      "text/plain": [
       "[<matplotlib.lines.Line2D at 0x1b518164160>]"
      ]
     },
     "execution_count": 49,
     "metadata": {},
     "output_type": "execute_result"
    },
    {
     "data": {
      "text/plain": [
       "(<matplotlib.collections.PathCollection at 0x1b5180ae710>,)"
      ]
     },
     "execution_count": 49,
     "metadata": {},
     "output_type": "execute_result"
    },
    {
     "data": {
      "text/plain": [
       "(0.0, 1.0)"
      ]
     },
     "execution_count": 49,
     "metadata": {},
     "output_type": "execute_result"
    },
    {
     "data": {
      "text/plain": [
       "(0.0, 1.05)"
      ]
     },
     "execution_count": 49,
     "metadata": {},
     "output_type": "execute_result"
    },
    {
     "data": {
      "text/plain": [
       "(array([0. , 0.2, 0.4, 0.6, 0.8, 1. ]),\n",
       " [Text(0, 0, ''),\n",
       "  Text(0, 0, ''),\n",
       "  Text(0, 0, ''),\n",
       "  Text(0, 0, ''),\n",
       "  Text(0, 0, ''),\n",
       "  Text(0, 0, '')])"
      ]
     },
     "execution_count": 49,
     "metadata": {},
     "output_type": "execute_result"
    },
    {
     "data": {
      "text/plain": [
       "(array([0. , 0.2, 0.4, 0.6, 0.8, 1. , 1.2]),\n",
       " [Text(0, 0, ''),\n",
       "  Text(0, 0, ''),\n",
       "  Text(0, 0, ''),\n",
       "  Text(0, 0, ''),\n",
       "  Text(0, 0, ''),\n",
       "  Text(0, 0, ''),\n",
       "  Text(0, 0, '')])"
      ]
     },
     "execution_count": 49,
     "metadata": {},
     "output_type": "execute_result"
    },
    {
     "data": {
      "text/plain": [
       "Text(0.5, 0, 'Recall')"
      ]
     },
     "execution_count": 49,
     "metadata": {},
     "output_type": "execute_result"
    },
    {
     "data": {
      "text/plain": [
       "Text(0, 0.5, 'Precision')"
      ]
     },
     "execution_count": 49,
     "metadata": {},
     "output_type": "execute_result"
    },
    {
     "data": {
      "text/plain": [
       "Text(0.5, 1.0, 'Precision Recall Curve')"
      ]
     },
     "execution_count": 49,
     "metadata": {},
     "output_type": "execute_result"
    },
    {
     "data": {
      "text/plain": [
       "<matplotlib.legend.Legend at 0x1b5181d1e10>"
      ]
     },
     "execution_count": 49,
     "metadata": {},
     "output_type": "execute_result"
    },
    {
     "data": {
      "image/png": "[encoded data removed]",
      "text/plain": [
       "<Figure size 432x288 with 1 Axes>"
      ]
     },
     "metadata": {
      "needs_background": "light"
     },
     "output_type": "display_data"
    }
   ],
   "source": [
    "plt.figure()\n",
    "lw = 2\n",
    "\n",
    "plt.plot(*returnrecallprecision(dftext), color='darkblue', lw=lw, label='Text Model (area = %0.2f)' % returnauprc(dftext))\n",
    "plt.plot(*returnrecallprecision(dfcombo), color='darkorange', lw=lw, label='Combined Model (area = %0.2f)' % returnauprc(dfcombo))\n",
    "plt.plot(*returnrecallprecision(dfstruct), color='darkgreen', lw=lw, label='Structured Model (area = %0.2f)' % returnauprc(dfstruct))\n",
    "plt.scatter(0.25, 0.34, \n",
    "            color=\"red\", marker=\"X\", s=100, label = 'Ophthalmologist Performance'),\n",
    "plt.xlim([0.0, 1.0])\n",
    "plt.ylim([0.0, 1.05])\n",
    "plt.xticks(fontsize=12)\n",
    "plt.yticks(fontsize=12)\n",
    "plt.xlabel('Recall', fontsize=14)\n",
    "plt.ylabel('Precision', fontsize=14)\n",
    "plt.title('Precision Recall Curve', fontsize=16)\n",
    "plt.legend(loc=\"upper right\", prop={'size': 12})\n",
    "plt.show()"
   ]
  },
  {
   "cell_type": "code",
   "execution_count": 41,
   "metadata": {},
   "outputs": [
    {
     "data": {
      "text/plain": [
       "<Figure size 1008x360 with 0 Axes>"
      ]
     },
     "execution_count": 41,
     "metadata": {},
     "output_type": "execute_result"
    },
    {
     "data": {
      "text/plain": [
       "<AxesSubplot:>"
      ]
     },
     "execution_count": 41,
     "metadata": {},
     "output_type": "execute_result"
    },
    {
     "data": {
      "text/plain": [
       "[<matplotlib.lines.Line2D at 0x2285d6a5198>]"
      ]
     },
     "execution_count": 41,
     "metadata": {},
     "output_type": "execute_result"
    },
    {
     "data": {
      "text/plain": [
       "[<matplotlib.lines.Line2D at 0x2285db290b8>]"
      ]
     },
     "execution_count": 41,
     "metadata": {},
     "output_type": "execute_result"
    },
    {
     "data": {
      "text/plain": [
       "[<matplotlib.lines.Line2D at 0x2285db40eb8>]"
      ]
     },
     "execution_count": 41,
     "metadata": {},
     "output_type": "execute_result"
    },
    {
     "data": {
      "text/plain": [
       "(<matplotlib.collections.PathCollection at 0x2285db50438>,)"
      ]
     },
     "execution_count": 41,
     "metadata": {},
     "output_type": "execute_result"
    },
    {
     "data": {
      "text/plain": [
       "[<matplotlib.lines.Line2D at 0x2285db506a0>]"
      ]
     },
     "execution_count": 41,
     "metadata": {},
     "output_type": "execute_result"
    },
    {
     "data": {
      "text/plain": [
       "(0.0, 1.0)"
      ]
     },
     "execution_count": 41,
     "metadata": {},
     "output_type": "execute_result"
    },
    {
     "data": {
      "text/plain": [
       "(0.0, 1.05)"
      ]
     },
     "execution_count": 41,
     "metadata": {},
     "output_type": "execute_result"
    },
    {
     "data": {
      "text/plain": [
       "(array([0. , 0.2, 0.4, 0.6, 0.8, 1. ]),\n",
       " [Text(0, 0, ''),\n",
       "  Text(0, 0, ''),\n",
       "  Text(0, 0, ''),\n",
       "  Text(0, 0, ''),\n",
       "  Text(0, 0, ''),\n",
       "  Text(0, 0, '')])"
      ]
     },
     "execution_count": 41,
     "metadata": {},
     "output_type": "execute_result"
    },
    {
     "data": {
      "text/plain": [
       "(array([0. , 0.2, 0.4, 0.6, 0.8, 1. , 1.2]),\n",
       " [Text(0, 0, ''),\n",
       "  Text(0, 0, ''),\n",
       "  Text(0, 0, ''),\n",
       "  Text(0, 0, ''),\n",
       "  Text(0, 0, ''),\n",
       "  Text(0, 0, ''),\n",
       "  Text(0, 0, '')])"
      ]
     },
     "execution_count": 41,
     "metadata": {},
     "output_type": "execute_result"
    },
    {
     "data": {
      "text/plain": [
       "Text(0.5, 0, 'False Positive Rate')"
      ]
     },
     "execution_count": 41,
     "metadata": {},
     "output_type": "execute_result"
    },
    {
     "data": {
      "text/plain": [
       "Text(0, 0.5, 'True Positive Rate')"
      ]
     },
     "execution_count": 41,
     "metadata": {},
     "output_type": "execute_result"
    },
    {
     "data": {
      "text/plain": [
       "Text(0.5, 1.0, 'Receiver Operating Curve')"
      ]
     },
     "execution_count": 41,
     "metadata": {},
     "output_type": "execute_result"
    },
    {
     "data": {
      "text/plain": [
       "<matplotlib.legend.Legend at 0x2285d6f8a20>"
      ]
     },
     "execution_count": 41,
     "metadata": {},
     "output_type": "execute_result"
    },
    {
     "data": {
      "text/plain": [
       "<AxesSubplot:>"
      ]
     },
     "execution_count": 41,
     "metadata": {},
     "output_type": "execute_result"
    },
    {
     "data": {
      "text/plain": [
       "[<matplotlib.lines.Line2D at 0x2285db62e80>]"
      ]
     },
     "execution_count": 41,
     "metadata": {},
     "output_type": "execute_result"
    },
    {
     "data": {
      "text/plain": [
       "[<matplotlib.lines.Line2D at 0x2285d360d30>]"
      ]
     },
     "execution_count": 41,
     "metadata": {},
     "output_type": "execute_result"
    },
    {
     "data": {
      "text/plain": [
       "[<matplotlib.lines.Line2D at 0x2285dbb3470>]"
      ]
     },
     "execution_count": 41,
     "metadata": {},
     "output_type": "execute_result"
    },
    {
     "data": {
      "text/plain": [
       "(<matplotlib.collections.PathCollection at 0x2285dbb3748>,)"
      ]
     },
     "execution_count": 41,
     "metadata": {},
     "output_type": "execute_result"
    },
    {
     "data": {
      "text/plain": [
       "(0.0, 1.0)"
      ]
     },
     "execution_count": 41,
     "metadata": {},
     "output_type": "execute_result"
    },
    {
     "data": {
      "text/plain": [
       "(0.0, 1.05)"
      ]
     },
     "execution_count": 41,
     "metadata": {},
     "output_type": "execute_result"
    },
    {
     "data": {
      "text/plain": [
       "(array([0. , 0.2, 0.4, 0.6, 0.8, 1. ]),\n",
       " [Text(0, 0, ''),\n",
       "  Text(0, 0, ''),\n",
       "  Text(0, 0, ''),\n",
       "  Text(0, 0, ''),\n",
       "  Text(0, 0, ''),\n",
       "  Text(0, 0, '')])"
      ]
     },
     "execution_count": 41,
     "metadata": {},
     "output_type": "execute_result"
    },
    {
     "data": {
      "text/plain": [
       "(array([0. , 0.2, 0.4, 0.6, 0.8, 1. , 1.2]),\n",
       " [Text(0, 0, ''),\n",
       "  Text(0, 0, ''),\n",
       "  Text(0, 0, ''),\n",
       "  Text(0, 0, ''),\n",
       "  Text(0, 0, ''),\n",
       "  Text(0, 0, ''),\n",
       "  Text(0, 0, '')])"
      ]
     },
     "execution_count": 41,
     "metadata": {},
     "output_type": "execute_result"
    },
    {
     "data": {
      "text/plain": [
       "Text(0.5, 0, 'Recall')"
      ]
     },
     "execution_count": 41,
     "metadata": {},
     "output_type": "execute_result"
    },
    {
     "data": {
      "text/plain": [
       "Text(0, 0.5, 'Precision')"
      ]
     },
     "execution_count": 41,
     "metadata": {},
     "output_type": "execute_result"
    },
    {
     "data": {
      "text/plain": [
       "Text(0.5, 1.0, 'Precision Recall Curve')"
      ]
     },
     "execution_count": 41,
     "metadata": {},
     "output_type": "execute_result"
    },
    {
     "data": {
      "text/plain": [
       "<matplotlib.legend.Legend at 0x2285dbd2390>"
      ]
     },
     "execution_count": 41,
     "metadata": {},
     "output_type": "execute_result"
    },
    {
     "data": {
      "image/png": "[encoded data removed]",
      "text/plain": [
       "<Figure size 1008x360 with 2 Axes>"
      ]
     },
     "metadata": {
      "needs_background": "light"
     },
     "output_type": "display_data"
    }
   ],
   "source": [
    "#combine into one figure \n",
    "lw = 2\n",
    "plt.figure(figsize=(14,5))\n",
    "plt.subplot(1, 2, 1)\n",
    "plt.plot(*returnfprtpr(dfcombo), color='darkorange',\n",
    "         lw=lw, label='Combined Model (area = %0.2f)' % returnauc(dfcombo))\n",
    "plt.plot(*returnfprtpr(dftext), color='darkblue',\n",
    "         lw=lw, label='Text Model (area = %0.2f)' % returnauc(dftext))\n",
    "plt.plot(*returnfprtpr(dfstruct), color='darkgreen',\n",
    "         lw=lw, label='Structured Model (area = %0.2f)' % returnauc(dfstruct))\n",
    "plt.scatter(0.25, 1-0.90, \n",
    "            color=\"red\", marker=\"X\", s=100, label = 'Ophthalmologist Predictions'),\n",
    "plt.plot([0, 1], [0, 1], color='red', lw=lw, linestyle='--')\n",
    "plt.xlim([0.0, 1.0])\n",
    "plt.ylim([0.0, 1.05])\n",
    "plt.xticks(fontsize=12)\n",
    "plt.yticks(fontsize=12)\n",
    "plt.xlabel('False Positive Rate', fontsize=14)\n",
    "plt.ylabel('True Positive Rate', fontsize=14)\n",
    "plt.title('Receiver Operating Curve', fontsize=16)\n",
    "plt.legend(loc=\"lower right\", prop={'size': 12})\n",
    "\n",
    "plt.subplot(1, 2, 2)\n",
    "plt.plot(*returnrecallprecision(dftext), color='darkblue', lw=lw, label='Text Model (area = %0.2f)' % returnauprc(dftext))\n",
    "plt.plot(*returnrecallprecision(dfcombo), color='darkorange', lw=lw, label='Combined Model (area = %0.2f)' % returnauprc(dfcombo))\n",
    "plt.plot(*returnrecallprecision(dfstruct), color='darkgreen', lw=lw, label='Structured Model (area = %0.2f)' % returnauprc(dfstruct))\n",
    "plt.scatter(0.25, 0.34, \n",
    "            color=\"red\", marker=\"X\", s=100, label = 'Ophthalmologist Predictions'),\n",
    "plt.xlim([0.0, 1.0])\n",
    "plt.ylim([0.0, 1.05])\n",
    "plt.xticks(fontsize=12)\n",
    "plt.yticks(fontsize=12)\n",
    "plt.xlabel('Recall', fontsize=14)\n",
    "plt.ylabel('Precision', fontsize=14)\n",
    "plt.title('Precision Recall Curve', fontsize=16)\n",
    "plt.legend(loc=\"upper right\", prop={'size': 12})\n",
    "\n",
    "plt.tight_layout()\n",
    "plt.savefig('fig3.jpg', dpi=600)\n",
    "plt.show()\n"
   ]
  },
  {
   "cell_type": "code",
   "execution_count": 16,
   "metadata": {},
   "outputs": [],
   "source": [
    "def getpredictions(df,threshold=0.5): \n",
    "    Y , proba = preprocessdf(df)\n",
    "    predictions=np.where(np.array(proba)>threshold, 1,0)\n",
    "    return Y, list(predictions)"
   ]
  },
  {
   "cell_type": "code",
   "execution_count": 17,
   "metadata": {},
   "outputs": [
    {
     "data": {
      "text/plain": [
       "0.508"
      ]
     },
     "execution_count": 17,
     "metadata": {},
     "output_type": "execute_result"
    },
    {
     "data": {
      "text/plain": [
       "0.284"
      ]
     },
     "execution_count": 17,
     "metadata": {},
     "output_type": "execute_result"
    },
    {
     "data": {
      "text/plain": [
       "0.49"
      ]
     },
     "execution_count": 17,
     "metadata": {},
     "output_type": "execute_result"
    }
   ],
   "source": [
    "#get overall percent positive predictions\n",
    "np.mean(getpredictions(dfstruct, threshold=0.15)[1])\n",
    "np.mean(getpredictions(dftext, threshold=0.20)[1])\n",
    "np.mean(getpredictions(dfcombo, threshold=0.15)[1])"
   ]
  },
  {
   "cell_type": "code",
   "execution_count": 18,
   "metadata": {},
   "outputs": [
    {
     "name": "stdout",
     "output_type": "stream",
     "text": [
      "              precision    recall  f1-score   support\n",
      "\n",
      "           0       0.89      0.53      0.66       416\n",
      "           1       0.23      0.69      0.34        84\n",
      "\n",
      "    accuracy                           0.56       500\n",
      "   macro avg       0.56      0.61      0.50       500\n",
      "weighted avg       0.78      0.56      0.61       500\n",
      "\n",
      "              precision    recall  f1-score   support\n",
      "\n",
      "           0       0.90      0.77      0.83       416\n",
      "           1       0.33      0.56      0.42        84\n",
      "\n",
      "    accuracy                           0.74       500\n",
      "   macro avg       0.61      0.67      0.62       500\n",
      "weighted avg       0.80      0.74      0.76       500\n",
      "\n",
      "              precision    recall  f1-score   support\n",
      "\n",
      "           0       0.93      0.57      0.70       416\n",
      "           1       0.27      0.77      0.40        84\n",
      "\n",
      "    accuracy                           0.60       500\n",
      "   macro avg       0.60      0.67      0.55       500\n",
      "weighted avg       0.81      0.60      0.65       500\n",
      "\n"
     ]
    }
   ],
   "source": [
    "print(metrics.classification_report(*getpredictions(dfstruct, threshold=0.15)))\n",
    "print(metrics.classification_report(*getpredictions(dftext, threshold=0.20)))\n",
    "print(metrics.classification_report(*getpredictions(dfcombo, threshold=0.15)))"
   ]
  },
  {
   "cell_type": "code",
   "execution_count": 19,
   "metadata": {},
   "outputs": [
    {
     "name": "stdout",
     "output_type": "stream",
     "text": [
      "              precision    recall  f1-score   support\n",
      "\n",
      "           0       0.85      0.99      0.92       416\n",
      "           1       0.81      0.15      0.26        84\n",
      "\n",
      "    accuracy                           0.85       500\n",
      "   macro avg       0.83      0.57      0.59       500\n",
      "weighted avg       0.85      0.85      0.81       500\n",
      "\n",
      "              precision    recall  f1-score   support\n",
      "\n",
      "           0       0.83      1.00      0.91       416\n",
      "           1       0.00      0.00      0.00        84\n",
      "\n",
      "    accuracy                           0.83       500\n",
      "   macro avg       0.42      0.50      0.45       500\n",
      "weighted avg       0.69      0.83      0.76       500\n",
      "\n",
      "              precision    recall  f1-score   support\n",
      "\n",
      "           0       0.84      0.99      0.91       416\n",
      "           1       0.70      0.08      0.15        84\n",
      "\n",
      "    accuracy                           0.84       500\n",
      "   macro avg       0.77      0.54      0.53       500\n",
      "weighted avg       0.82      0.84      0.78       500\n",
      "\n"
     ]
    },
    {
     "name": "stderr",
     "output_type": "stream",
     "text": [
      "C:\\Users\\Sophia\\Anaconda3\\lib\\site-packages\\sklearn\\metrics\\_classification.py:1221: UndefinedMetricWarning: Precision and F-score are ill-defined and being set to 0.0 in labels with no predicted samples. Use `zero_division` parameter to control this behavior.\n",
      "  _warn_prf(average, modifier, msg_start, len(result))\n"
     ]
    }
   ],
   "source": [
    "print(metrics.classification_report(*getpredictions(dftext)))\n",
    "print(metrics.classification_report(*getpredictions(dfstruct)))\n",
    "print(metrics.classification_report(*getpredictions(dfcombo)))"
   ]
  },
  {
   "cell_type": "code",
   "execution_count": 20,
   "metadata": {},
   "outputs": [
    {
     "data": {
      "text/plain": [
       "0.12666666666666668"
      ]
     },
     "execution_count": 20,
     "metadata": {},
     "output_type": "execute_result"
    }
   ],
   "source": [
    "#percent positive predictions by ophthalmologist\n",
    "dfoph[\"prediction\"].mean()"
   ]
  },
  {
   "cell_type": "code",
   "execution_count": 21,
   "metadata": {},
   "outputs": [
    {
     "name": "stdout",
     "output_type": "stream",
     "text": [
      "              precision    recall  f1-score   support\n",
      "\n",
      "           0       0.85      0.90      0.88       249\n",
      "           1       0.34      0.25      0.29        51\n",
      "\n",
      "    accuracy                           0.79       300\n",
      "   macro avg       0.60      0.58      0.58       300\n",
      "weighted avg       0.77      0.79      0.78       300\n",
      "\n"
     ]
    }
   ],
   "source": [
    "print(metrics.classification_report(dfoph[\"label\"], dfoph[\"prediction\"]))\n"
   ]
  },
  {
   "cell_type": "code",
   "execution_count": 57,
   "metadata": {},
   "outputs": [],
   "source": [
    "#calibration curve \n",
    "from sklearn.calibration import calibration_curve\n",
    "\n",
    "def calibrationplot(df, name): \n",
    "    y, proba = preprocessdf(df)  \n",
    "    fraction_of_positives, mean_predicted_value = calibration_curve(y, proba, n_bins=10)\n",
    "\n",
    "    ax1.plot(mean_predicted_value, fraction_of_positives, \"s-\",\n",
    "             label=\"%s\" % (name, ))\n",
    "\n",
    "    ax2.hist(proba, range=(0, 1), bins=10, label=name,\n",
    "             histtype=\"step\", lw=2)\n",
    "    return "
   ]
  },
  {
   "cell_type": "markdown",
   "metadata": {},
   "source": [
    "## Extra plots "
   ]
  },
  {
   "cell_type": "code",
   "execution_count": 58,
   "metadata": {},
   "outputs": [
    {
     "data": {
      "text/plain": [
       "<Figure size 720x720 with 0 Axes>"
      ]
     },
     "execution_count": 58,
     "metadata": {},
     "output_type": "execute_result"
    },
    {
     "data": {
      "text/plain": [
       "[<matplotlib.lines.Line2D at 0x28198341dd8>]"
      ]
     },
     "execution_count": 58,
     "metadata": {},
     "output_type": "execute_result"
    },
    {
     "data": {
      "text/plain": [
       "Text(0, 0.5, 'Fraction of Positives')"
      ]
     },
     "execution_count": 58,
     "metadata": {},
     "output_type": "execute_result"
    },
    {
     "data": {
      "text/plain": [
       "(-0.05, 1.05)"
      ]
     },
     "execution_count": 58,
     "metadata": {},
     "output_type": "execute_result"
    },
    {
     "data": {
      "text/plain": [
       "<matplotlib.legend.Legend at 0x2819838c7f0>"
      ]
     },
     "execution_count": 58,
     "metadata": {},
     "output_type": "execute_result"
    },
    {
     "data": {
      "text/plain": [
       "Text(0.5, 1.0, 'Calibration Plots')"
      ]
     },
     "execution_count": 58,
     "metadata": {},
     "output_type": "execute_result"
    },
    {
     "data": {
      "text/plain": [
       "Text(0.5, 0, 'Mean Predicted Value')"
      ]
     },
     "execution_count": 58,
     "metadata": {},
     "output_type": "execute_result"
    },
    {
     "data": {
      "text/plain": [
       "Text(0, 0.5, 'Count')"
      ]
     },
     "execution_count": 58,
     "metadata": {},
     "output_type": "execute_result"
    },
    {
     "data": {
      "text/plain": [
       "<matplotlib.legend.Legend at 0x2819832b860>"
      ]
     },
     "execution_count": 58,
     "metadata": {},
     "output_type": "execute_result"
    },
    {
     "data": {
      "image/png": "[encoded data removed]",
      "text/plain": [
       "<Figure size 720x720 with 2 Axes>"
      ]
     },
     "metadata": {
      "needs_background": "light"
     },
     "output_type": "display_data"
    }
   ],
   "source": [
    "# Plot calibration plots\n",
    "\n",
    "plt.figure(figsize=(10, 10))\n",
    "ax1 = plt.subplot2grid((3, 1), (0, 0), rowspan=2)\n",
    "ax2 = plt.subplot2grid((3, 1), (2, 0))\n",
    "\n",
    "ax1.plot([0, 1], [0, 1], \"k:\", label=\"Perfectly calibrated\")\n",
    "for df, name in [(dftext, 'Text'),\n",
    "                 (dfstruct, 'Struct'),\n",
    "                  (dfcombo, 'Combo')]:\n",
    "    calibrationplot(df, name)\n",
    "ax1.set_ylabel(\"Fraction of Positives\", fontsize=14)\n",
    "ax1.set_ylim([-0.05, 1.05])\n",
    "ax1.legend(loc=\"lower right\", fontsize=12)\n",
    "ax1.set_title('Calibration Plots', fontsize=20)\n",
    "\n",
    "ax2.set_xlabel(\"Mean Predicted Value\", fontsize=14)\n",
    "ax2.set_ylabel(\"Count\", fontsize=14)\n",
    "ax2.legend(loc=\"upper right\", ncol=1)\n",
    "\n",
    "plt.tight_layout()\n",
    "plt.show()"
   ]
  },
  {
   "cell_type": "code",
   "execution_count": null,
   "metadata": {},
   "outputs": [],
   "source": [
    "plt.figure()\n",
    "lw = 2\n",
    "\n",
    "plt.plot(*returnfprtpr(dfemr), color='darkblue',\n",
    "         lw=lw, label='EHR ROC curve (area = %0.3f)' % returnauc(dfemr))\n",
    "plt.scatter(returnfprtpr(dfemr)[0][58], returnfprtpr(dfemr)[1][58], color=\"darkblue\", marker=\"X\", s=100, label = 'EHR Min Cost = $%i, Best Threshold=%0.2f' %(ehrmincost, ehrminthreshold))\n",
    "plt.plot(*returnfprtpr(dfglove), color='darkgreen',\n",
    "         lw=lw, label='GloVe ROC curve (area = %0.3f)' % returnauc(dfglove))\n",
    "plt.scatter(returnfprtpr(dfglove)[0][45], returnfprtpr(dfglove)[1][45], color=\"darkgreen\", marker=\"X\", s=100, label = 'EHR Min Cost = $%i, Best Threshold=%0.2f' %(glovemincost, gloveminthreshold))\n",
    "plt.plot(*returnfprtpr(dfpubmed), color='darkorange',\n",
    "         lw=lw, label='PubMed ROC curve (area = %0.3f)' % returnauc(dfpubmed))\n",
    "plt.scatter(returnfprtpr(dfpubmed)[0][52], returnfprtpr(dfpubmed)[1][52], color=\"darkorange\", marker=\"X\", s=100, label = 'PubMed Min Cost = $%i, Best Threshold=%0.2f' %(pubmedmincost, pubmedminthreshold))\n",
    "\n",
    "plt.plot([0, 1], [0, 1], color='red', lw=lw, linestyle='--')\n",
    "plt.xlim([0.0, 1.0])\n",
    "plt.ylim([0.0, 1.05])\n",
    "plt.xlabel('False Positive Rate')\n",
    "plt.ylabel('True Positive Rate')\n",
    "plt.title('Receiver Operating Curve ')\n",
    "#plt.legend(loc=\"lower right\")\n",
    "plt.show()"
   ]
  },
  {
   "cell_type": "code",
   "execution_count": 122,
   "metadata": {},
   "outputs": [
    {
     "data": {
      "text/plain": [
       "0.2768361581920904"
      ]
     },
     "execution_count": 122,
     "metadata": {},
     "output_type": "execute_result"
    }
   ],
   "source": [
    "returnfprtpr(dfemr)[0][58]"
   ]
  },
  {
   "cell_type": "code",
   "execution_count": 133,
   "metadata": {},
   "outputs": [
    {
     "data": {
      "text/plain": [
       "32300"
      ]
     },
     "execution_count": 133,
     "metadata": {},
     "output_type": "execute_result"
    }
   ],
   "source": [
    "195500-163200"
   ]
  },
  {
   "cell_type": "markdown",
   "metadata": {},
   "source": [
    "# Supplemental Figure and Tables - basic ML Models "
   ]
  },
  {
   "cell_type": "code",
   "execution_count": 25,
   "metadata": {},
   "outputs": [
    {
     "data": {
      "text/html": [
       "<div>\n",
       "<style scoped>\n",
       "    .dataframe tbody tr th:only-of-type {\n",
       "        vertical-align: middle;\n",
       "    }\n",
       "\n",
       "    .dataframe tbody tr th {\n",
       "        vertical-align: top;\n",
       "    }\n",
       "\n",
       "    .dataframe thead th {\n",
       "        text-align: right;\n",
       "    }\n",
       "</style>\n",
       "<table border=\"1\" class=\"dataframe\">\n",
       "  <thead>\n",
       "    <tr style=\"text-align: right;\">\n",
       "      <th></th>\n",
       "      <th>Y-Holdout</th>\n",
       "      <th>L1</th>\n",
       "      <th>L2</th>\n",
       "      <th>ElasticNet</th>\n",
       "      <th>Gradient Boosted Forest</th>\n",
       "    </tr>\n",
       "  </thead>\n",
       "  <tbody>\n",
       "    <tr>\n",
       "      <th>0</th>\n",
       "      <td>0</td>\n",
       "      <td>0.206054</td>\n",
       "      <td>0.132968</td>\n",
       "      <td>0.151553</td>\n",
       "      <td>0.203830</td>\n",
       "    </tr>\n",
       "    <tr>\n",
       "      <th>1</th>\n",
       "      <td>0</td>\n",
       "      <td>0.127346</td>\n",
       "      <td>0.119415</td>\n",
       "      <td>0.115465</td>\n",
       "      <td>0.155419</td>\n",
       "    </tr>\n",
       "    <tr>\n",
       "      <th>2</th>\n",
       "      <td>0</td>\n",
       "      <td>0.113129</td>\n",
       "      <td>0.089817</td>\n",
       "      <td>0.111170</td>\n",
       "      <td>0.140821</td>\n",
       "    </tr>\n",
       "    <tr>\n",
       "      <th>3</th>\n",
       "      <td>0</td>\n",
       "      <td>0.140474</td>\n",
       "      <td>0.167591</td>\n",
       "      <td>0.147183</td>\n",
       "      <td>0.153160</td>\n",
       "    </tr>\n",
       "    <tr>\n",
       "      <th>4</th>\n",
       "      <td>0</td>\n",
       "      <td>0.143584</td>\n",
       "      <td>0.061938</td>\n",
       "      <td>0.099946</td>\n",
       "      <td>0.151555</td>\n",
       "    </tr>\n",
       "  </tbody>\n",
       "</table>\n",
       "</div>"
      ],
      "text/plain": [
       "   Y-Holdout        L1        L2  ElasticNet  Gradient Boosted Forest\n",
       "0          0  0.206054  0.132968    0.151553                 0.203830\n",
       "1          0  0.127346  0.119415    0.115465                 0.155419\n",
       "2          0  0.113129  0.089817    0.111170                 0.140821\n",
       "3          0  0.140474  0.167591    0.147183                 0.153160\n",
       "4          0  0.143584  0.061938    0.099946                 0.151555"
      ]
     },
     "execution_count": 25,
     "metadata": {},
     "output_type": "execute_result"
    }
   ],
   "source": [
    "dfml=pd.read_csv(\"../../../predictglaucomasurgery/predictionsfromBen/structuredmodel/bestmlmodels_glaucoma_structured_results.csv\")\n",
    "dfml.head()"
   ]
  },
  {
   "cell_type": "code",
   "execution_count": 43,
   "metadata": {},
   "outputs": [
    {
     "data": {
      "text/plain": [
       "500"
      ]
     },
     "execution_count": 43,
     "metadata": {},
     "output_type": "execute_result"
    }
   ],
   "source": [
    "len(dfml)"
   ]
  },
  {
   "cell_type": "code",
   "execution_count": 26,
   "metadata": {},
   "outputs": [
    {
     "data": {
      "text/html": [
       "<div>\n",
       "<style scoped>\n",
       "    .dataframe tbody tr th:only-of-type {\n",
       "        vertical-align: middle;\n",
       "    }\n",
       "\n",
       "    .dataframe tbody tr th {\n",
       "        vertical-align: top;\n",
       "    }\n",
       "\n",
       "    .dataframe thead th {\n",
       "        text-align: right;\n",
       "    }\n",
       "</style>\n",
       "<table border=\"1\" class=\"dataframe\">\n",
       "  <thead>\n",
       "    <tr style=\"text-align: right;\">\n",
       "      <th></th>\n",
       "      <th>predictions</th>\n",
       "      <th>label</th>\n",
       "    </tr>\n",
       "  </thead>\n",
       "  <tbody>\n",
       "    <tr>\n",
       "      <th>0</th>\n",
       "      <td>0.121847</td>\n",
       "      <td>0</td>\n",
       "    </tr>\n",
       "    <tr>\n",
       "      <th>1</th>\n",
       "      <td>0.132427</td>\n",
       "      <td>0</td>\n",
       "    </tr>\n",
       "    <tr>\n",
       "      <th>2</th>\n",
       "      <td>0.124185</td>\n",
       "      <td>0</td>\n",
       "    </tr>\n",
       "    <tr>\n",
       "      <th>3</th>\n",
       "      <td>0.183501</td>\n",
       "      <td>0</td>\n",
       "    </tr>\n",
       "    <tr>\n",
       "      <th>4</th>\n",
       "      <td>0.098835</td>\n",
       "      <td>0</td>\n",
       "    </tr>\n",
       "  </tbody>\n",
       "</table>\n",
       "</div>"
      ],
      "text/plain": [
       "   predictions  label\n",
       "0     0.121847      0\n",
       "1     0.132427      0\n",
       "2     0.124185      0\n",
       "3     0.183501      0\n",
       "4     0.098835      0"
      ]
     },
     "execution_count": 26,
     "metadata": {},
     "output_type": "execute_result"
    }
   ],
   "source": [
    "dfstruct.head()"
   ]
  },
  {
   "cell_type": "code",
   "execution_count": 33,
   "metadata": {},
   "outputs": [
    {
     "data": {
      "text/html": [
       "<div>\n",
       "<style scoped>\n",
       "    .dataframe tbody tr th:only-of-type {\n",
       "        vertical-align: middle;\n",
       "    }\n",
       "\n",
       "    .dataframe tbody tr th {\n",
       "        vertical-align: top;\n",
       "    }\n",
       "\n",
       "    .dataframe thead th {\n",
       "        text-align: right;\n",
       "    }\n",
       "</style>\n",
       "<table border=\"1\" class=\"dataframe\">\n",
       "  <thead>\n",
       "    <tr style=\"text-align: right;\">\n",
       "      <th></th>\n",
       "      <th>predictions</th>\n",
       "      <th>label</th>\n",
       "    </tr>\n",
       "  </thead>\n",
       "  <tbody>\n",
       "    <tr>\n",
       "      <th>0</th>\n",
       "      <td>0.206054</td>\n",
       "      <td>0</td>\n",
       "    </tr>\n",
       "    <tr>\n",
       "      <th>1</th>\n",
       "      <td>0.127346</td>\n",
       "      <td>0</td>\n",
       "    </tr>\n",
       "    <tr>\n",
       "      <th>2</th>\n",
       "      <td>0.113129</td>\n",
       "      <td>0</td>\n",
       "    </tr>\n",
       "    <tr>\n",
       "      <th>3</th>\n",
       "      <td>0.140474</td>\n",
       "      <td>0</td>\n",
       "    </tr>\n",
       "    <tr>\n",
       "      <th>4</th>\n",
       "      <td>0.143584</td>\n",
       "      <td>0</td>\n",
       "    </tr>\n",
       "  </tbody>\n",
       "</table>\n",
       "</div>"
      ],
      "text/plain": [
       "   predictions  label\n",
       "0     0.206054      0\n",
       "1     0.127346      0\n",
       "2     0.113129      0\n",
       "3     0.140474      0\n",
       "4     0.143584      0"
      ]
     },
     "execution_count": 33,
     "metadata": {},
     "output_type": "execute_result"
    },
    {
     "data": {
      "text/html": [
       "<div>\n",
       "<style scoped>\n",
       "    .dataframe tbody tr th:only-of-type {\n",
       "        vertical-align: middle;\n",
       "    }\n",
       "\n",
       "    .dataframe tbody tr th {\n",
       "        vertical-align: top;\n",
       "    }\n",
       "\n",
       "    .dataframe thead th {\n",
       "        text-align: right;\n",
       "    }\n",
       "</style>\n",
       "<table border=\"1\" class=\"dataframe\">\n",
       "  <thead>\n",
       "    <tr style=\"text-align: right;\">\n",
       "      <th></th>\n",
       "      <th>predictions</th>\n",
       "      <th>label</th>\n",
       "    </tr>\n",
       "  </thead>\n",
       "  <tbody>\n",
       "    <tr>\n",
       "      <th>0</th>\n",
       "      <td>0.132968</td>\n",
       "      <td>0</td>\n",
       "    </tr>\n",
       "    <tr>\n",
       "      <th>1</th>\n",
       "      <td>0.119415</td>\n",
       "      <td>0</td>\n",
       "    </tr>\n",
       "    <tr>\n",
       "      <th>2</th>\n",
       "      <td>0.089817</td>\n",
       "      <td>0</td>\n",
       "    </tr>\n",
       "    <tr>\n",
       "      <th>3</th>\n",
       "      <td>0.167591</td>\n",
       "      <td>0</td>\n",
       "    </tr>\n",
       "    <tr>\n",
       "      <th>4</th>\n",
       "      <td>0.061938</td>\n",
       "      <td>0</td>\n",
       "    </tr>\n",
       "  </tbody>\n",
       "</table>\n",
       "</div>"
      ],
      "text/plain": [
       "   predictions  label\n",
       "0     0.132968      0\n",
       "1     0.119415      0\n",
       "2     0.089817      0\n",
       "3     0.167591      0\n",
       "4     0.061938      0"
      ]
     },
     "execution_count": 33,
     "metadata": {},
     "output_type": "execute_result"
    },
    {
     "data": {
      "text/html": [
       "<div>\n",
       "<style scoped>\n",
       "    .dataframe tbody tr th:only-of-type {\n",
       "        vertical-align: middle;\n",
       "    }\n",
       "\n",
       "    .dataframe tbody tr th {\n",
       "        vertical-align: top;\n",
       "    }\n",
       "\n",
       "    .dataframe thead th {\n",
       "        text-align: right;\n",
       "    }\n",
       "</style>\n",
       "<table border=\"1\" class=\"dataframe\">\n",
       "  <thead>\n",
       "    <tr style=\"text-align: right;\">\n",
       "      <th></th>\n",
       "      <th>predictions</th>\n",
       "      <th>label</th>\n",
       "    </tr>\n",
       "  </thead>\n",
       "  <tbody>\n",
       "    <tr>\n",
       "      <th>0</th>\n",
       "      <td>0.151553</td>\n",
       "      <td>0</td>\n",
       "    </tr>\n",
       "    <tr>\n",
       "      <th>1</th>\n",
       "      <td>0.115465</td>\n",
       "      <td>0</td>\n",
       "    </tr>\n",
       "    <tr>\n",
       "      <th>2</th>\n",
       "      <td>0.111170</td>\n",
       "      <td>0</td>\n",
       "    </tr>\n",
       "    <tr>\n",
       "      <th>3</th>\n",
       "      <td>0.147183</td>\n",
       "      <td>0</td>\n",
       "    </tr>\n",
       "    <tr>\n",
       "      <th>4</th>\n",
       "      <td>0.099946</td>\n",
       "      <td>0</td>\n",
       "    </tr>\n",
       "  </tbody>\n",
       "</table>\n",
       "</div>"
      ],
      "text/plain": [
       "   predictions  label\n",
       "0     0.151553      0\n",
       "1     0.115465      0\n",
       "2     0.111170      0\n",
       "3     0.147183      0\n",
       "4     0.099946      0"
      ]
     },
     "execution_count": 33,
     "metadata": {},
     "output_type": "execute_result"
    },
    {
     "data": {
      "text/html": [
       "<div>\n",
       "<style scoped>\n",
       "    .dataframe tbody tr th:only-of-type {\n",
       "        vertical-align: middle;\n",
       "    }\n",
       "\n",
       "    .dataframe tbody tr th {\n",
       "        vertical-align: top;\n",
       "    }\n",
       "\n",
       "    .dataframe thead th {\n",
       "        text-align: right;\n",
       "    }\n",
       "</style>\n",
       "<table border=\"1\" class=\"dataframe\">\n",
       "  <thead>\n",
       "    <tr style=\"text-align: right;\">\n",
       "      <th></th>\n",
       "      <th>predictions</th>\n",
       "      <th>label</th>\n",
       "    </tr>\n",
       "  </thead>\n",
       "  <tbody>\n",
       "    <tr>\n",
       "      <th>0</th>\n",
       "      <td>0.203830</td>\n",
       "      <td>0</td>\n",
       "    </tr>\n",
       "    <tr>\n",
       "      <th>1</th>\n",
       "      <td>0.155419</td>\n",
       "      <td>0</td>\n",
       "    </tr>\n",
       "    <tr>\n",
       "      <th>2</th>\n",
       "      <td>0.140821</td>\n",
       "      <td>0</td>\n",
       "    </tr>\n",
       "    <tr>\n",
       "      <th>3</th>\n",
       "      <td>0.153160</td>\n",
       "      <td>0</td>\n",
       "    </tr>\n",
       "    <tr>\n",
       "      <th>4</th>\n",
       "      <td>0.151555</td>\n",
       "      <td>0</td>\n",
       "    </tr>\n",
       "  </tbody>\n",
       "</table>\n",
       "</div>"
      ],
      "text/plain": [
       "   predictions  label\n",
       "0     0.203830      0\n",
       "1     0.155419      0\n",
       "2     0.140821      0\n",
       "3     0.153160      0\n",
       "4     0.151555      0"
      ]
     },
     "execution_count": 33,
     "metadata": {},
     "output_type": "execute_result"
    }
   ],
   "source": [
    "dfl1=dfml[[\"L1\",\"Y-Holdout\"]]\n",
    "dfl1.columns=[\"predictions\",\"label\"]\n",
    "dfl1.head()\n",
    "\n",
    "dfl2=dfml[[\"L2\",\"Y-Holdout\"]]\n",
    "dfl2.columns=[\"predictions\",\"label\"]\n",
    "dfl2.head()\n",
    "\n",
    "dfen=dfml[[\"ElasticNet\",\"Y-Holdout\"]]\n",
    "dfen.columns=[\"predictions\",\"label\"]\n",
    "dfen.head()\n",
    "\n",
    "dfgbt=dfml[[\"Gradient Boosted Forest\",\"Y-Holdout\"]]\n",
    "dfgbt.columns=[\"predictions\",\"label\"]\n",
    "dfgbt.head()"
   ]
  },
  {
   "cell_type": "code",
   "execution_count": 45,
   "metadata": {},
   "outputs": [
    {
     "data": {
      "text/plain": [
       "<Figure size 1008x360 with 0 Axes>"
      ]
     },
     "execution_count": 45,
     "metadata": {},
     "output_type": "execute_result"
    },
    {
     "data": {
      "text/plain": [
       "<AxesSubplot:>"
      ]
     },
     "execution_count": 45,
     "metadata": {},
     "output_type": "execute_result"
    },
    {
     "data": {
      "text/plain": [
       "[<matplotlib.lines.Line2D at 0x2285de3c208>]"
      ]
     },
     "execution_count": 45,
     "metadata": {},
     "output_type": "execute_result"
    },
    {
     "data": {
      "text/plain": [
       "[<matplotlib.lines.Line2D at 0x2285dea7c50>]"
      ]
     },
     "execution_count": 45,
     "metadata": {},
     "output_type": "execute_result"
    },
    {
     "data": {
      "text/plain": [
       "[<matplotlib.lines.Line2D at 0x2285de3c080>]"
      ]
     },
     "execution_count": 45,
     "metadata": {},
     "output_type": "execute_result"
    },
    {
     "data": {
      "text/plain": [
       "[<matplotlib.lines.Line2D at 0x2285dde3f28>]"
      ]
     },
     "execution_count": 45,
     "metadata": {},
     "output_type": "execute_result"
    },
    {
     "data": {
      "text/plain": [
       "[<matplotlib.lines.Line2D at 0x2285f3042e8>]"
      ]
     },
     "execution_count": 45,
     "metadata": {},
     "output_type": "execute_result"
    },
    {
     "data": {
      "text/plain": [
       "(0.0, 1.0)"
      ]
     },
     "execution_count": 45,
     "metadata": {},
     "output_type": "execute_result"
    },
    {
     "data": {
      "text/plain": [
       "(0.0, 1.05)"
      ]
     },
     "execution_count": 45,
     "metadata": {},
     "output_type": "execute_result"
    },
    {
     "data": {
      "text/plain": [
       "(array([0. , 0.2, 0.4, 0.6, 0.8, 1. ]),\n",
       " [Text(0, 0, ''),\n",
       "  Text(0, 0, ''),\n",
       "  Text(0, 0, ''),\n",
       "  Text(0, 0, ''),\n",
       "  Text(0, 0, ''),\n",
       "  Text(0, 0, '')])"
      ]
     },
     "execution_count": 45,
     "metadata": {},
     "output_type": "execute_result"
    },
    {
     "data": {
      "text/plain": [
       "(array([0. , 0.2, 0.4, 0.6, 0.8, 1. , 1.2]),\n",
       " [Text(0, 0, ''),\n",
       "  Text(0, 0, ''),\n",
       "  Text(0, 0, ''),\n",
       "  Text(0, 0, ''),\n",
       "  Text(0, 0, ''),\n",
       "  Text(0, 0, ''),\n",
       "  Text(0, 0, '')])"
      ]
     },
     "execution_count": 45,
     "metadata": {},
     "output_type": "execute_result"
    },
    {
     "data": {
      "text/plain": [
       "Text(0.5, 0, 'False Positive Rate')"
      ]
     },
     "execution_count": 45,
     "metadata": {},
     "output_type": "execute_result"
    },
    {
     "data": {
      "text/plain": [
       "Text(0, 0.5, 'True Positive Rate')"
      ]
     },
     "execution_count": 45,
     "metadata": {},
     "output_type": "execute_result"
    },
    {
     "data": {
      "text/plain": [
       "Text(0.5, 1.0, 'Receiver Operating Curve')"
      ]
     },
     "execution_count": 45,
     "metadata": {},
     "output_type": "execute_result"
    },
    {
     "data": {
      "text/plain": [
       "<matplotlib.legend.Legend at 0x2285f31be10>"
      ]
     },
     "execution_count": 45,
     "metadata": {},
     "output_type": "execute_result"
    },
    {
     "data": {
      "text/plain": [
       "<AxesSubplot:>"
      ]
     },
     "execution_count": 45,
     "metadata": {},
     "output_type": "execute_result"
    },
    {
     "data": {
      "text/plain": [
       "[<matplotlib.lines.Line2D at 0x2285de85c50>]"
      ]
     },
     "execution_count": 45,
     "metadata": {},
     "output_type": "execute_result"
    },
    {
     "data": {
      "text/plain": [
       "[<matplotlib.lines.Line2D at 0x2285de09cc0>]"
      ]
     },
     "execution_count": 45,
     "metadata": {},
     "output_type": "execute_result"
    },
    {
     "data": {
      "text/plain": [
       "[<matplotlib.lines.Line2D at 0x2285f3040b8>]"
      ]
     },
     "execution_count": 45,
     "metadata": {},
     "output_type": "execute_result"
    },
    {
     "data": {
      "text/plain": [
       "[<matplotlib.lines.Line2D at 0x2285dd963c8>]"
      ]
     },
     "execution_count": 45,
     "metadata": {},
     "output_type": "execute_result"
    },
    {
     "data": {
      "text/plain": [
       "(0.0, 1.0)"
      ]
     },
     "execution_count": 45,
     "metadata": {},
     "output_type": "execute_result"
    },
    {
     "data": {
      "text/plain": [
       "(0.0, 1.05)"
      ]
     },
     "execution_count": 45,
     "metadata": {},
     "output_type": "execute_result"
    },
    {
     "data": {
      "text/plain": [
       "(array([0. , 0.2, 0.4, 0.6, 0.8, 1. ]),\n",
       " [Text(0, 0, ''),\n",
       "  Text(0, 0, ''),\n",
       "  Text(0, 0, ''),\n",
       "  Text(0, 0, ''),\n",
       "  Text(0, 0, ''),\n",
       "  Text(0, 0, '')])"
      ]
     },
     "execution_count": 45,
     "metadata": {},
     "output_type": "execute_result"
    },
    {
     "data": {
      "text/plain": [
       "(array([0. , 0.2, 0.4, 0.6, 0.8, 1. , 1.2]),\n",
       " [Text(0, 0, ''),\n",
       "  Text(0, 0, ''),\n",
       "  Text(0, 0, ''),\n",
       "  Text(0, 0, ''),\n",
       "  Text(0, 0, ''),\n",
       "  Text(0, 0, ''),\n",
       "  Text(0, 0, '')])"
      ]
     },
     "execution_count": 45,
     "metadata": {},
     "output_type": "execute_result"
    },
    {
     "data": {
      "text/plain": [
       "Text(0.5, 0, 'Recall')"
      ]
     },
     "execution_count": 45,
     "metadata": {},
     "output_type": "execute_result"
    },
    {
     "data": {
      "text/plain": [
       "Text(0, 0.5, 'Precision')"
      ]
     },
     "execution_count": 45,
     "metadata": {},
     "output_type": "execute_result"
    },
    {
     "data": {
      "text/plain": [
       "Text(0.5, 1.0, 'Precision Recall Curve')"
      ]
     },
     "execution_count": 45,
     "metadata": {},
     "output_type": "execute_result"
    },
    {
     "data": {
      "text/plain": [
       "<matplotlib.legend.Legend at 0x2285f37fa58>"
      ]
     },
     "execution_count": 45,
     "metadata": {},
     "output_type": "execute_result"
    },
    {
     "data": {
      "image/png": "[encoded data removed]",
      "text/plain": [
       "<Figure size 1008x360 with 2 Axes>"
      ]
     },
     "metadata": {
      "needs_background": "light"
     },
     "output_type": "display_data"
    }
   ],
   "source": [
    "#combine into one figure \n",
    "lw = 2\n",
    "plt.figure(figsize=(14,5))\n",
    "plt.subplot(1, 2, 1)\n",
    "plt.plot(*returnfprtpr(dfl1), color='darkorange',\n",
    "         lw=lw, label='L1 Penalized Regression (area = %0.2f)' % returnauc(dfl1))\n",
    "plt.plot(*returnfprtpr(dfl2), color='darkblue',\n",
    "         lw=lw, label='L2 Penalized Regression (area = %0.2f)' % returnauc(dfl2))\n",
    "plt.plot(*returnfprtpr(dfen), color='darkgreen',\n",
    "         lw=lw, label='Elastic Net Penalized Regression (area = %0.2f)' % returnauc(dfen))\n",
    "plt.plot(*returnfprtpr(dfgbt), color='purple',\n",
    "         lw=lw, label='Gradient Boosted Trees (area = %0.2f)' % returnauc(dfgbt))\n",
    "#plt.scatter(0.25, 1-0.90, color=\"red\", marker=\"X\", s=100, label = 'Ophthalmologist Predictions'),\n",
    "plt.plot([0, 1], [0, 1], color='red', lw=lw, linestyle='--')\n",
    "plt.xlim([0.0, 1.0])\n",
    "plt.ylim([0.0, 1.05])\n",
    "plt.xticks(fontsize=12)\n",
    "plt.yticks(fontsize=12)\n",
    "plt.xlabel('False Positive Rate', fontsize=14)\n",
    "plt.ylabel('True Positive Rate', fontsize=14)\n",
    "plt.title('Receiver Operating Curve', fontsize=16)\n",
    "plt.legend(loc=\"lower right\", prop={'size': 12})\n",
    "\n",
    "plt.subplot(1, 2, 2)\n",
    "plt.plot(*returnrecallprecision(dfl1), color='darkblue', lw=lw, label='L1 Penalized Regression (area = %0.2f)' % returnauprc(dfl1))\n",
    "plt.plot(*returnrecallprecision(dfl2), color='darkorange', lw=lw, label='L2 Penalized Regression (area = %0.2f)' % returnauprc(dfl2))\n",
    "plt.plot(*returnrecallprecision(dfen), color='darkgreen', lw=lw, label='Elastic Net Penalized Regression (area = %0.2f)' % returnauprc(dfen))\n",
    "plt.plot(*returnrecallprecision(dfgbt), color='purple', lw=lw, label='Gradient Boosted Trees (area = %0.2f)' % returnauprc(dfgbt))\n",
    "\n",
    "#plt.scatter(0.25, 0.34, color=\"red\", marker=\"X\", s=100, label = 'Ophthalmologist Performance'),\n",
    "\n",
    "plt.xlim([0.0, 1.0])\n",
    "plt.ylim([0.0, 1.05])\n",
    "plt.xticks(fontsize=12)\n",
    "plt.yticks(fontsize=12)\n",
    "plt.xlabel('Recall', fontsize=14)\n",
    "plt.ylabel('Precision', fontsize=14)\n",
    "plt.title('Precision Recall Curve', fontsize=16)\n",
    "plt.legend(loc=\"upper right\", prop={'size': 12})\n",
    "\n",
    "plt.tight_layout()\n",
    "plt.savefig('FigSupplement.jpg', dpi=600)\n",
    "plt.show()"
   ]
  },
  {
   "cell_type": "code",
   "execution_count": 46,
   "metadata": {},
   "outputs": [
    {
     "data": {
      "text/plain": [
       "0.208"
      ]
     },
     "execution_count": 46,
     "metadata": {},
     "output_type": "execute_result"
    },
    {
     "data": {
      "text/plain": [
       "0.464"
      ]
     },
     "execution_count": 46,
     "metadata": {},
     "output_type": "execute_result"
    },
    {
     "data": {
      "text/plain": [
       "0.06"
      ]
     },
     "execution_count": 46,
     "metadata": {},
     "output_type": "execute_result"
    },
    {
     "data": {
      "text/plain": [
       "0.634"
      ]
     },
     "execution_count": 46,
     "metadata": {},
     "output_type": "execute_result"
    }
   ],
   "source": [
    "\n",
    "#get overall percent positive predictions\n",
    "np.mean(getpredictions(dfl1, threshold=0.20)[1])\n",
    "np.mean(getpredictions(dfl2, threshold=0.15)[1])\n",
    "np.mean(getpredictions(dfen, threshold=0.30)[1])\n",
    "np.mean(getpredictions(dfgbt, threshold=0.15)[1])"
   ]
  },
  {
   "cell_type": "code",
   "execution_count": 47,
   "metadata": {},
   "outputs": [
    {
     "name": "stdout",
     "output_type": "stream",
     "text": [
      "              precision    recall  f1-score   support\n",
      "\n",
      "           0       0.88      0.83      0.85       416\n",
      "           1       0.34      0.42      0.37        84\n",
      "\n",
      "    accuracy                           0.76       500\n",
      "   macro avg       0.61      0.63      0.61       500\n",
      "weighted avg       0.79      0.76      0.77       500\n",
      "\n",
      "              precision    recall  f1-score   support\n",
      "\n",
      "           0       0.89      0.57      0.70       416\n",
      "           1       0.24      0.65      0.35        84\n",
      "\n",
      "    accuracy                           0.59       500\n",
      "   macro avg       0.56      0.61      0.52       500\n",
      "weighted avg       0.78      0.59      0.64       500\n",
      "\n",
      "              precision    recall  f1-score   support\n",
      "\n",
      "           0       0.85      0.96      0.90       416\n",
      "           1       0.43      0.15      0.23        84\n",
      "\n",
      "    accuracy                           0.82       500\n",
      "   macro avg       0.64      0.56      0.56       500\n",
      "weighted avg       0.78      0.82      0.79       500\n",
      "\n",
      "              precision    recall  f1-score   support\n",
      "\n",
      "           0       0.91      0.40      0.55       416\n",
      "           1       0.21      0.80      0.33        84\n",
      "\n",
      "    accuracy                           0.47       500\n",
      "   macro avg       0.56      0.60      0.44       500\n",
      "weighted avg       0.79      0.47      0.52       500\n",
      "\n"
     ]
    }
   ],
   "source": [
    "print(metrics.classification_report(*getpredictions(dfl1, threshold=0.20)))\n",
    "print(metrics.classification_report(*getpredictions(dfl2, threshold=0.15)))\n",
    "print(metrics.classification_report(*getpredictions(dfen, threshold=0.30)))\n",
    "print(metrics.classification_report(*getpredictions(dfgbt, threshold=0.15)))"
   ]
  },
  {
   "cell_type": "markdown",
   "metadata": {},
   "source": [
    "# Experiment with bootstrapping "
   ]
  },
  {
   "cell_type": "code",
   "execution_count": 60,
   "metadata": {},
   "outputs": [],
   "source": [
    "def bootstrap(input_predictions_path, output_results_path, threshold = 0.5, n_replicates = 1000, iter_print=10): \n",
    "    print(\"reading predictions from \", input_predictions_path) \n",
    "    df = pd.read_csv(input_predictions_path, header=None)\n",
    "\n",
    "    #print(\"calculating original scores...\") \n",
    "    #calculate original scores \n",
    "    dfoutput=pd.DataFrame(metrics.classification_report(*getpredictions(df, threshold=threshold), output_dict=True)).transpose()\n",
    "    dfoutput[\"auroc\"]=returnauc(df)\n",
    "    dfoutput[\"auprc\"]=returnauprc(df)\n",
    "\n",
    "    #print(dfoutput)\n",
    "\n",
    "    print(\"calculating over \", n_replicates, \" replicates...\") \n",
    "    #sample rows\n",
    "\n",
    "    #create list of dataframes \n",
    "    replicate_results = [] \n",
    "\n",
    "    #sample from predictions \n",
    "    #this is a really slow script because running classification_report is really slow! \n",
    "    for i in range(n_replicates): \n",
    "        if i%iter_print==0: \n",
    "            print(i) \n",
    "        dfsample=df.sample(len(df), replace=True) \n",
    "        output=metrics.classification_report(*getpredictions(dfsample, threshold=threshold), output_dict=True)\n",
    "        outputdf=pd.DataFrame(output).transpose()\n",
    "        outputdf[\"auroc\"]=returnauc(dfsample)\n",
    "        outputdf[\"auprc\"]=returnauprc(dfsample)\n",
    "        #store pandas dataframe as list \n",
    "        replicate_results.append(np.expand_dims(np.array(outputdf[[\"precision\", \"recall\", \"f1-score\", \"auroc\", \"auprc\"]]), axis=2)) \n",
    "\n",
    "    npreplicates = np.concatenate(replicate_results, axis=2) \n",
    "    #get quantile along axis \n",
    "    lower_bound = np.quantile(npreplicates, 0.025, axis=2) \t\n",
    "    upper_bound = np.quantile(npreplicates, 0.975, axis=2)\n",
    "\n",
    "\n",
    "    df_lower=pd.DataFrame(lower_bound, columns=['precision_lower', 'recall_lower', 'f1_lower', 'auroc_lower', 'auprc_lower'], index=dfoutput.index) \n",
    "    df_upper=pd.DataFrame(upper_bound, columns=['precision_upper', 'recall_upper', 'f1_upper', 'auroc_upper', 'auprc_upper'], index=dfoutput.index) \n",
    "\n",
    "    finalresultdf = pd.concat([dfoutput[\"precision\"], df_lower[\"precision_lower\"], df_upper[\"precision_upper\"], \n",
    "    dfoutput[\"recall\"], df_lower[\"recall_lower\"], df_upper[\"recall_upper\"], \n",
    "    dfoutput[\"f1-score\"], df_lower[\"f1_lower\"], df_upper[\"f1_upper\"], \n",
    "    dfoutput[\"auroc\"], df_lower[\"auroc_lower\"], df_upper[\"auroc_upper\"], \n",
    "    dfoutput[\"auprc\"], df_lower[\"auprc_lower\"], df_upper[\"auprc_upper\"], \n",
    "    dfoutput[\"support\"]], axis=1) \n",
    "    \n",
    "    print(finalresultdf) \n",
    "    \n",
    "    print(\"saving results to \", output_results_path) \n",
    "    finalresultdf.to_csv(output_results_path)\n",
    "\n",
    "    return "
   ]
  },
  {
   "cell_type": "code",
   "execution_count": 61,
   "metadata": {},
   "outputs": [
    {
     "name": "stdout",
     "output_type": "stream",
     "text": [
      "reading predictions from  predictglaucomasurgery/predictionsfromBen/structuredmodel/AGS - structuredpreds.csv\n",
      "calculating over  10000  replicates...\n",
      "0\n",
      "100\n",
      "200\n",
      "300\n",
      "400\n",
      "500\n",
      "600\n",
      "700\n",
      "800\n",
      "900\n",
      "1000\n",
      "1100\n",
      "1200\n",
      "1300\n",
      "1400\n",
      "1500\n",
      "1600\n",
      "1700\n",
      "1800\n",
      "1900\n",
      "2000\n",
      "2100\n",
      "2200\n",
      "2300\n",
      "2400\n",
      "2500\n",
      "2600\n",
      "2700\n",
      "2800\n",
      "2900\n",
      "3000\n",
      "3100\n",
      "3200\n",
      "3300\n",
      "3400\n",
      "3500\n",
      "3600\n",
      "3700\n",
      "3800\n",
      "3900\n",
      "4000\n",
      "4100\n",
      "4200\n",
      "4300\n",
      "4400\n",
      "4500\n",
      "4600\n",
      "4700\n",
      "4800\n",
      "4900\n",
      "5000\n",
      "5100\n",
      "5200\n",
      "5300\n",
      "5400\n",
      "5500\n",
      "5600\n",
      "5700\n",
      "5800\n",
      "5900\n",
      "6000\n",
      "6100\n",
      "6200\n",
      "6300\n",
      "6400\n",
      "6500\n",
      "6600\n",
      "6700\n",
      "6800\n",
      "6900\n",
      "7000\n",
      "7100\n",
      "7200\n",
      "7300\n",
      "7400\n",
      "7500\n",
      "7600\n",
      "7700\n",
      "7800\n",
      "7900\n",
      "8000\n",
      "8100\n",
      "8200\n",
      "8300\n",
      "8400\n",
      "8500\n",
      "8600\n",
      "8700\n",
      "8800\n",
      "8900\n",
      "9000\n",
      "9100\n",
      "9200\n",
      "9300\n",
      "9400\n",
      "9500\n",
      "9600\n",
      "9700\n",
      "9800\n",
      "9900\n",
      "              precision  precision_lower  precision_upper    recall  \\\n",
      "0              0.894309         0.854167         0.931174  0.528846   \n",
      "1              0.228346         0.178292         0.280902  0.690476   \n",
      "accuracy       0.556000         0.512000         0.600000  0.556000   \n",
      "macro avg      0.561328         0.528774         0.593438  0.609661   \n",
      "weighted avg   0.782427         0.736943         0.827539  0.556000   \n",
      "\n",
      "              recall_lower  recall_upper  f1-score  f1_lower  f1_upper  \\\n",
      "0                 0.481221      0.576273  0.664653  0.621951  0.704678   \n",
      "1                 0.591398      0.786667  0.343195  0.277946  0.406506   \n",
      "accuracy          0.512000      0.600000  0.556000  0.512000  0.600000   \n",
      "macro avg         0.553427      0.663509  0.503924  0.460348  0.547524   \n",
      "weighted avg      0.512000      0.600000  0.610648  0.569861  0.649891   \n",
      "\n",
      "                 auroc  auroc_lower  auroc_upper     auprc  auprc_lower  \\\n",
      "0             0.657652       0.5923     0.721633  0.284457     0.210222   \n",
      "1             0.657652       0.5923     0.721633  0.284457     0.210222   \n",
      "accuracy      0.657652       0.5923     0.721633  0.284457     0.210222   \n",
      "macro avg     0.657652       0.5923     0.721633  0.284457     0.210222   \n",
      "weighted avg  0.657652       0.5923     0.721633  0.284457     0.210222   \n",
      "\n",
      "              auprc_upper  support  \n",
      "0                0.382513  416.000  \n",
      "1                0.382513   84.000  \n",
      "accuracy         0.382513    0.556  \n",
      "macro avg        0.382513  500.000  \n",
      "weighted avg     0.382513  500.000  \n",
      "saving results to  predictglaucomasurgery/text/glaucsurg-metrics-struct-ci.csv\n"
     ]
    }
   ],
   "source": [
    "input_predictions_path=\"predictglaucomasurgery/predictionsfromBen/structuredmodel/AGS - structuredpreds.csv\"\n",
    "output_results_path='predictglaucomasurgery/text/glaucsurg-metrics-struct-ci.csv'\n",
    "bootstrap(input_predictions_path, output_results_path, threshold = 0.15, n_replicates=10000, iter_print=100) "
   ]
  },
  {
   "cell_type": "code",
   "execution_count": 64,
   "metadata": {},
   "outputs": [
    {
     "name": "stdout",
     "output_type": "stream",
     "text": [
      "reading predictions from  predictglaucomasurgery/predictionsfromBen/textmodel/AGS - textcnn-preds.csv\n",
      "calculating over  10000  replicates...\n",
      "0\n",
      "100\n",
      "200\n",
      "300\n",
      "400\n",
      "500\n",
      "600\n",
      "700\n",
      "800\n",
      "900\n",
      "1000\n",
      "1100\n",
      "1200\n",
      "1300\n",
      "1400\n",
      "1500\n",
      "1600\n",
      "1700\n",
      "1800\n",
      "1900\n",
      "2000\n",
      "2100\n",
      "2200\n",
      "2300\n",
      "2400\n",
      "2500\n",
      "2600\n",
      "2700\n",
      "2800\n",
      "2900\n",
      "3000\n",
      "3100\n",
      "3200\n",
      "3300\n",
      "3400\n",
      "3500\n",
      "3600\n",
      "3700\n",
      "3800\n",
      "3900\n",
      "4000\n",
      "4100\n",
      "4200\n",
      "4300\n",
      "4400\n",
      "4500\n",
      "4600\n",
      "4700\n",
      "4800\n",
      "4900\n",
      "5000\n",
      "5100\n",
      "5200\n",
      "5300\n",
      "5400\n",
      "5500\n",
      "5600\n",
      "5700\n",
      "5800\n",
      "5900\n",
      "6000\n",
      "6100\n",
      "6200\n",
      "6300\n",
      "6400\n",
      "6500\n",
      "6600\n",
      "6700\n",
      "6800\n",
      "6900\n",
      "7000\n",
      "7100\n",
      "7200\n",
      "7300\n",
      "7400\n",
      "7500\n",
      "7600\n",
      "7700\n",
      "7800\n",
      "7900\n",
      "8000\n",
      "8100\n",
      "8200\n",
      "8300\n",
      "8400\n",
      "8500\n",
      "8600\n",
      "8700\n",
      "8800\n",
      "8900\n",
      "9000\n",
      "9100\n",
      "9200\n",
      "9300\n",
      "9400\n",
      "9500\n",
      "9600\n",
      "9700\n",
      "9800\n",
      "9900\n",
      "              precision  precision_lower  precision_upper    recall  \\\n",
      "0              0.896648         0.864499         0.926761  0.771635   \n",
      "1              0.330986         0.253519         0.410855  0.559524   \n",
      "accuracy       0.736000         0.698000         0.774000  0.736000   \n",
      "macro avg      0.613817         0.572042         0.656012  0.665579   \n",
      "weighted avg   0.801617         0.762408         0.840437  0.736000   \n",
      "\n",
      "              recall_lower  recall_upper  f1-score  f1_lower  f1_upper  \\\n",
      "0                 0.731235      0.811737  0.829457  0.800000  0.856781   \n",
      "1                 0.452381      0.662338  0.415929  0.331796  0.493617   \n",
      "accuracy          0.698000      0.774000  0.736000  0.698000  0.774000   \n",
      "macro avg         0.608331      0.721252  0.622693  0.573468  0.670485   \n",
      "weighted avg      0.698000      0.774000  0.759985  0.724800  0.794537   \n",
      "\n",
      "                auroc  auroc_lower  auroc_upper     auprc  auprc_lower  \\\n",
      "0             0.69723     0.628885     0.762327  0.430869     0.327168   \n",
      "1             0.69723     0.628885     0.762327  0.430869     0.327168   \n",
      "accuracy      0.69723     0.628885     0.762327  0.430869     0.327168   \n",
      "macro avg     0.69723     0.628885     0.762327  0.430869     0.327168   \n",
      "weighted avg  0.69723     0.628885     0.762327  0.430869     0.327168   \n",
      "\n",
      "              auprc_upper  support  \n",
      "0                0.529825  416.000  \n",
      "1                0.529825   84.000  \n",
      "accuracy         0.529825    0.736  \n",
      "macro avg        0.529825  500.000  \n",
      "weighted avg     0.529825  500.000  \n",
      "saving results to  predictglaucomasurgery/text/glaucsurg-metrics-text-ci.csv\n"
     ]
    }
   ],
   "source": [
    "input_predictions_path = \"predictglaucomasurgery/predictionsfromBen/textmodel/AGS - textcnn-preds.csv\"\n",
    "output_results_path='predictglaucomasurgery/text/glaucsurg-metrics-text-ci.csv'\n",
    "bootstrap(input_predictions_path, output_results_path, threshold = 0.20, n_replicates=10000, iter_print=100) "
   ]
  },
  {
   "cell_type": "code",
   "execution_count": 63,
   "metadata": {},
   "outputs": [
    {
     "name": "stdout",
     "output_type": "stream",
     "text": [
      "reading predictions from  predictglaucomasurgery/predictionsfromBen/combomodel/AGS - combo-11-preds.csv\n",
      "calculating over  10000  replicates...\n",
      "0\n",
      "100\n",
      "200\n",
      "300\n",
      "400\n",
      "500\n",
      "600\n",
      "700\n",
      "800\n",
      "900\n",
      "1000\n",
      "1100\n",
      "1200\n",
      "1300\n",
      "1400\n",
      "1500\n",
      "1600\n",
      "1700\n",
      "1800\n",
      "1900\n",
      "2000\n",
      "2100\n",
      "2200\n",
      "2300\n",
      "2400\n",
      "2500\n",
      "2600\n",
      "2700\n",
      "2800\n",
      "2900\n",
      "3000\n",
      "3100\n",
      "3200\n",
      "3300\n",
      "3400\n",
      "3500\n",
      "3600\n",
      "3700\n",
      "3800\n",
      "3900\n",
      "4000\n",
      "4100\n",
      "4200\n",
      "4300\n",
      "4400\n",
      "4500\n",
      "4600\n",
      "4700\n",
      "4800\n",
      "4900\n",
      "5000\n",
      "5100\n",
      "5200\n",
      "5300\n",
      "5400\n",
      "5500\n",
      "5600\n",
      "5700\n",
      "5800\n",
      "5900\n",
      "6000\n",
      "6100\n",
      "6200\n",
      "6300\n",
      "6400\n",
      "6500\n",
      "6600\n",
      "6700\n",
      "6800\n",
      "6900\n",
      "7000\n",
      "7100\n",
      "7200\n",
      "7300\n",
      "7400\n",
      "7500\n",
      "7600\n",
      "7700\n",
      "7800\n",
      "7900\n",
      "8000\n",
      "8100\n",
      "8200\n",
      "8300\n",
      "8400\n",
      "8500\n",
      "8600\n",
      "8700\n",
      "8800\n",
      "8900\n",
      "9000\n",
      "9100\n",
      "9200\n",
      "9300\n",
      "9400\n",
      "9500\n",
      "9600\n",
      "9700\n",
      "9800\n",
      "9900\n",
      "              precision  precision_lower  precision_upper    recall  \\\n",
      "0              0.925490         0.891892         0.957031  0.567308   \n",
      "1              0.265306         0.210084         0.321289  0.773810   \n",
      "accuracy       0.602000         0.560000         0.644000  0.602000   \n",
      "macro avg      0.595398         0.563424         0.627135  0.670559   \n",
      "weighted avg   0.814579         0.775453         0.853746  0.602000   \n",
      "\n",
      "              recall_lower  recall_upper  f1-score  f1_lower  f1_upper  \\\n",
      "0                 0.519800      0.614458  0.703428  0.662650  0.741061   \n",
      "1                 0.679481      0.862069  0.395137  0.325879  0.460123   \n",
      "accuracy          0.560000      0.644000  0.602000  0.560000  0.644000   \n",
      "macro avg         0.619045      0.720954  0.549282  0.503984  0.592944   \n",
      "weighted avg      0.560000      0.644000  0.651635  0.613057  0.689460   \n",
      "\n",
      "                 auroc  auroc_lower  auroc_upper     auprc  auprc_lower  \\\n",
      "0             0.731198     0.673355     0.788518  0.391675     0.288317   \n",
      "1             0.731198     0.673355     0.788518  0.391675     0.288317   \n",
      "accuracy      0.731198     0.673355     0.788518  0.391675     0.288317   \n",
      "macro avg     0.731198     0.673355     0.788518  0.391675     0.288317   \n",
      "weighted avg  0.731198     0.673355     0.788518  0.391675     0.288317   \n",
      "\n",
      "              auprc_upper  support  \n",
      "0                0.499829  416.000  \n",
      "1                0.499829   84.000  \n",
      "accuracy         0.499829    0.602  \n",
      "macro avg        0.499829  500.000  \n",
      "weighted avg     0.499829  500.000  \n",
      "saving results to  predictglaucomasurgery/text/glaucsurg-metrics-combo-ci.csv\n"
     ]
    }
   ],
   "source": [
    "input_predictions_path = \"predictglaucomasurgery/predictionsfromBen/combomodel/AGS - combo-11-preds.csv\"\n",
    "output_results_path='predictglaucomasurgery/text/glaucsurg-metrics-combo-ci.csv'\n",
    "bootstrap(input_predictions_path, output_results_path, threshold = 0.15, n_replicates=10000, iter_print=100) "
   ]
  },
  {
   "cell_type": "code",
   "execution_count": null,
   "metadata": {},
   "outputs": [],
   "source": []
  }
 ],
 "metadata": {
  "kernelspec": {
   "display_name": "Python 3",
   "language": "python",
   "name": "python3"
  },
  "language_info": {
   "codemirror_mode": {
    "name": "ipython",
    "version": 3
   },
   "file_extension": ".py",
   "mimetype": "text/x-python",
   "name": "python",
   "nbconvert_exporter": "python",
   "pygments_lexer": "ipython3",
   "version": "3.6.12"
  }
 },
 "nbformat": 4,
 "nbformat_minor": 2
}
